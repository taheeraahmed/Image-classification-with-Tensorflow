{
 "cells": [
  {
   "cell_type": "markdown",
   "metadata": {},
   "source": [
    "# Covid-19 and Pneumonia classification\n",
    "\n",
    "In this project the goal is to develop a model which supports doctors with diagnosing illlnesses which affects the patients lungs. The dataset consists of X-ray lung scans where the patients either had pneumonia, Covid-19 or no illlness.\n",
    "\n",
    "This classification should, based by the model, classify a diagnosis based on the X-ray scan. "
   ]
  },
  {
   "cell_type": "markdown",
   "metadata": {},
   "source": [
    "## Set-up and preproccesing of data\n",
    "\n",
    "There will be used an ImageDataGenerator in order to create iterators for the test and train data. This is a classification task and we will use sparse categorical loss."
   ]
  },
  {
   "cell_type": "code",
   "execution_count": 2,
   "metadata": {},
   "outputs": [],
   "source": [
    "import tensorflow as tf\n",
    "from tensorflow import keras\n",
    "from tensorflow.keras.models import Sequential\n",
    "from tensorflow.keras.preprocessing.image import ImageDataGenerator\n",
    "\n",
    "from sklearn.metrics import classification_report\n",
    "from sklearn.metrics import confusion_matrix\n",
    "\n",
    "from tensorflow.keras.callbacks import EarlyStopping\n",
    "from tensorflow.keras import layers\n",
    "\n",
    "import matplotlib.pyplot as plt\n",
    "import numpy\n",
    "\n"
   ]
  },
  {
   "cell_type": "code",
   "execution_count": 3,
   "metadata": {},
   "outputs": [
    {
     "name": "stdout",
     "output_type": "stream",
     "text": [
      "Found 251 images belonging to 3 classes.\n",
      "Found 66 images belonging to 3 classes.\n"
     ]
    }
   ],
   "source": [
    "DIRECTORY_TRAIN = \"Covid19-dataset/train\"\n",
    "DIRECTORY_TEST = \"Covid19-dataset/test\"\n",
    "CLASS_MODE = \"categorical\"\n",
    "COLOR_MODE = \"grayscale\"\n",
    "TARGET_SIZE = (256,256)\n",
    "BATCH_SIZE = 32\n",
    "\n",
    "training_data_generator = ImageDataGenerator(rescale=1./255, zoom_range=0.2)\n",
    "training_iterator = training_data_generator.flow_from_directory(DIRECTORY_TRAIN,class_mode=CLASS_MODE,color_mode=COLOR_MODE,target_size=TARGET_SIZE,batch_size=BATCH_SIZE)\n",
    "\n",
    "validation_data_generator = ImageDataGenerator()\n",
    "validation_iterator = validation_data_generator.flow_from_directory(DIRECTORY_TEST,class_mode=CLASS_MODE, color_mode=COLOR_MODE,batch_size=BATCH_SIZE)#, subset='validation')"
   ]
  },
  {
   "cell_type": "markdown",
   "metadata": {},
   "source": [
    "## Creating and training the model"
   ]
  },
  {
   "cell_type": "code",
   "execution_count": 20,
   "metadata": {},
   "outputs": [],
   "source": [
    "def design_model(training_data):\n",
    "    model = Sequential()\n",
    "    model.add(tf.keras.Input(shape=(256, 256, 1)))\n",
    "    model.add(layers.Conv2D(5, 5, strides=3, activation=\"relu\")) \n",
    "    model.add(layers.MaxPooling2D(pool_size=(3, 3), strides=(2,2)))\n",
    "    model.add(layers.Conv2D(4, 4, strides=1, activation=\"relu\")) \n",
    "    model.add(layers.MaxPooling2D(pool_size=(2, 2), strides=(2,2)))\n",
    "\n",
    "    # experimenting with extra layesr\n",
    "    model.add(layers.Conv2D(4, 4, strides=1, activation=\"relu\"))\n",
    "    model.add(layers.Conv2D(2, 2, strides=1, activation=\"relu\"))\n",
    "    #model.add(layers.Dropout(0.1))\n",
    "\n",
    "    model.add(layers.Flatten())\n",
    "\n",
    "    # Output layer \n",
    "    model.add(layers.Dense(3,activation=\"softmax\"))\n",
    "\n",
    "    # Compiling the model\n",
    "    model.compile(optimizer=tf.keras.optimizers.Adam(learning_rate=.001), loss=tf.keras.losses.CategoricalCrossentropy(), metrics=[tf.keras.metrics.CategoricalAccuracy(),tf.keras.metrics.AUC()],)\n",
    "    model.summary()\n",
    "    return model"
   ]
  },
  {
   "cell_type": "code",
   "execution_count": 26,
   "metadata": {},
   "outputs": [
    {
     "name": "stdout",
     "output_type": "stream",
     "text": [
      "WARNING:tensorflow:Please add `keras.layers.InputLayer` instead of `keras.Input` to Sequential model. `keras.Input` is intended to be used by Functional model.\n",
      "Model: \"sequential_3\"\n",
      "_________________________________________________________________\n",
      "Layer (type)                 Output Shape              Param #   \n",
      "=================================================================\n",
      "conv2d_11 (Conv2D)           (None, 84, 84, 5)         130       \n",
      "_________________________________________________________________\n",
      "max_pooling2d_6 (MaxPooling2 (None, 41, 41, 5)         0         \n",
      "_________________________________________________________________\n",
      "conv2d_12 (Conv2D)           (None, 38, 38, 4)         324       \n",
      "_________________________________________________________________\n",
      "max_pooling2d_7 (MaxPooling2 (None, 19, 19, 4)         0         \n",
      "_________________________________________________________________\n",
      "conv2d_13 (Conv2D)           (None, 16, 16, 4)         260       \n",
      "_________________________________________________________________\n",
      "conv2d_14 (Conv2D)           (None, 15, 15, 2)         34        \n",
      "_________________________________________________________________\n",
      "flatten_3 (Flatten)          (None, 450)               0         \n",
      "_________________________________________________________________\n",
      "dense_3 (Dense)              (None, 3)                 1353      \n",
      "=================================================================\n",
      "Total params: 2,101\n",
      "Trainable params: 2,101\n",
      "Non-trainable params: 0\n",
      "_________________________________________________________________\n",
      "Epoch 1/12\n",
      "7/7 [==============================] - 4s 412ms/step - loss: 1.0955 - categorical_accuracy: 0.4263 - auc_3: 0.5693 - val_loss: 18.6734 - val_categorical_accuracy: 0.3939 - val_auc_3: 0.5447\n",
      "Epoch 2/12\n",
      "7/7 [==============================] - 3s 335ms/step - loss: 1.0801 - categorical_accuracy: 0.4422 - auc_3: 0.5767 - val_loss: 36.0943 - val_categorical_accuracy: 0.3939 - val_auc_3: 0.5455\n",
      "Epoch 3/12\n",
      "7/7 [==============================] - 3s 359ms/step - loss: 1.0703 - categorical_accuracy: 0.4422 - auc_3: 0.6035 - val_loss: 47.6240 - val_categorical_accuracy: 0.3939 - val_auc_3: 0.5455\n",
      "Epoch 4/12\n",
      "7/7 [==============================] - 3s 335ms/step - loss: 1.0611 - categorical_accuracy: 0.4422 - auc_3: 0.6348 - val_loss: 13.6993 - val_categorical_accuracy: 0.4848 - val_auc_3: 0.6286\n",
      "Epoch 5/12\n",
      "7/7 [==============================] - 3s 326ms/step - loss: 1.0401 - categorical_accuracy: 0.4422 - auc_3: 0.6970 - val_loss: 36.3622 - val_categorical_accuracy: 0.4242 - val_auc_3: 0.5595\n",
      "Epoch 6/12\n",
      "7/7 [==============================] - 3s 318ms/step - loss: 1.0092 - categorical_accuracy: 0.4422 - auc_3: 0.7307 - val_loss: 11.6079 - val_categorical_accuracy: 0.5909 - val_auc_3: 0.7036\n",
      "Epoch 7/12\n",
      "7/7 [==============================] - 3s 320ms/step - loss: 0.9784 - categorical_accuracy: 0.5498 - auc_3: 0.7660 - val_loss: 18.2219 - val_categorical_accuracy: 0.6212 - val_auc_3: 0.7407\n",
      "Epoch 8/12\n",
      "7/7 [==============================] - 3s 354ms/step - loss: 0.8872 - categorical_accuracy: 0.5418 - auc_3: 0.7973 - val_loss: 7.4602 - val_categorical_accuracy: 0.8485 - val_auc_3: 0.8852\n",
      "Epoch 9/12\n",
      "7/7 [==============================] - 3s 358ms/step - loss: 0.7669 - categorical_accuracy: 0.7968 - auc_3: 0.9114 - val_loss: 12.1776 - val_categorical_accuracy: 0.8030 - val_auc_3: 0.8589\n",
      "Epoch 10/12\n",
      "7/7 [==============================] - 3s 369ms/step - loss: 0.6611 - categorical_accuracy: 0.7410 - auc_3: 0.8984 - val_loss: 31.7747 - val_categorical_accuracy: 0.8485 - val_auc_3: 0.8864\n",
      "Epoch 11/12\n",
      "7/7 [==============================] - 3s 392ms/step - loss: 0.5078 - categorical_accuracy: 0.8287 - auc_3: 0.9394 - val_loss: 31.1106 - val_categorical_accuracy: 0.8030 - val_auc_3: 0.8705\n",
      "Epoch 12/12\n",
      "7/7 [==============================] - 3s 351ms/step - loss: 0.4830 - categorical_accuracy: 0.8167 - auc_3: 0.9429 - val_loss: 36.8604 - val_categorical_accuracy: 0.8333 - val_auc_3: 0.8851\n"
     ]
    }
   ],
   "source": [
    "model = design_model(training_iterator)\n",
    "\n",
    "# Earlystopper\n",
    "es = EarlyStopping(monitor='categorical_accuracy', mode='min', verbose=1, patience=20)\n",
    "\n",
    "# Training the model \n",
    "history = model.fit(\n",
    "        training_iterator,\n",
    "        steps_per_epoch=training_iterator.samples/BATCH_SIZE, epochs=12,\n",
    "        validation_data=validation_iterator,\n",
    "        validation_steps=validation_iterator.samples/BATCH_SIZE,\n",
    "        callbacks=[es]\n",
    ")"
   ]
  },
  {
   "cell_type": "markdown",
   "metadata": {},
   "source": [
    "## Results"
   ]
  },
  {
   "cell_type": "code",
   "execution_count": 27,
   "metadata": {},
   "outputs": [
    {
     "data": {
      "image/png": "[encoded data removed]",
      "text/plain": [
       "<Figure size 432x288 with 2 Axes>"
      ]
     },
     "metadata": {
      "needs_background": "light"
     },
     "output_type": "display_data"
    }
   ],
   "source": [
    "# plotting categorical and validation accuracy over epochs\n",
    "fig = plt.figure()\n",
    "ax1 = fig.add_subplot(2, 1, 1)\n",
    "ax1.plot(history.history['categorical_accuracy'])\n",
    "ax1.plot(history.history['val_categorical_accuracy'])\n",
    "ax1.set_title('Model accuracy')\n",
    "ax1.set_xlabel('Epoch')\n",
    "ax1.set_ylabel('Accuracy')\n",
    "ax1.legend(['Train', 'Validation'], loc='upper left')\n",
    "\n",
    "# plotting auc and validation auc over epochs\n",
    "ax2 = fig.add_subplot(2, 1, 2)\n",
    "ax2.plot(history.history['auc_3'])\n",
    "ax2.plot(history.history['val_auc_3'])\n",
    "ax2.set_title('Model auc')\n",
    "ax2.set_xlabel('Epoch')\n",
    "ax2.set_ylabel('Auc')\n",
    "ax2.legend(['Train', 'Validation'], loc='upper left')\n",
    "\n",
    "plt.show()"
   ]
  },
  {
   "cell_type": "markdown",
   "metadata": {},
   "source": [
    "AUC stands for \"Area Under Curve\" and is the measure of the ability of a classifier to distinguish between classes. This means that the model has over 80% chance of classifying an X-ray correctly. \n",
    "\n",
    "The accuracy says how likely it is that the model will assign the highest probability to the correct class more than 80% of the time"
   ]
  },
  {
   "cell_type": "code",
   "execution_count": 29,
   "metadata": {},
   "outputs": [
    {
     "name": "stdout",
     "output_type": "stream",
     "text": [
      "The AUC of the model is 0.8851010799407959\n",
      "The categorical accuracy of the model is 0.8333333134651184\n"
     ]
    }
   ],
   "source": [
    "print(f\"The AUC of the model is {history.history['val_auc_3'][-1]}\")\n",
    "print(f\"The categorical accuracy of the model is {history.history['val_categorical_accuracy'][-1]}\")"
   ]
  }
 ],
 "metadata": {
  "interpreter": {
   "hash": "aee8b7b246df8f9039afb4144a1f6fd8d2ca17a180786b69acc140d282b71a49"
  },
  "kernelspec": {
   "display_name": "Python 3.9.5 64-bit",
   "name": "python3"
  },
  "language_info": {
   "codemirror_mode": {
    "name": "ipython",
    "version": 3
   },
   "file_extension": ".py",
   "mimetype": "text/x-python",
   "name": "python",
   "nbconvert_exporter": "python",
   "pygments_lexer": "ipython3",
   "version": "3.9.5"
  },
  "orig_nbformat": 4
 },
 "nbformat": 4,
 "nbformat_minor": 2
}