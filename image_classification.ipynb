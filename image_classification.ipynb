{
 "cells": [
  {
   "cell_type": "markdown",
   "metadata": {},
   "source": [
    "# Covid-19 and Pneumonia classification\n",
    "\n",
    "In this project the goal is to develop a model which supports doctors with diagnosing illlnesses which affects the patients lungs. The dataset consists of X-ray lung scans where the patients either had pneumonia, Covid-19 or no illlness.\n",
    "\n",
    "This classification should, based by the model, classify a diagnosis based on the X-ray scan. "
   ]
  },
  {
   "cell_type": "markdown",
   "metadata": {},
   "source": [
    "## Set-up and preproccesing of data\n",
    "\n",
    "There will be used an ImageDataGenerator in order to create iterators for the test and train data. This is a classification task and we will use sparse categorical loss."
   ]
  },
  {
   "cell_type": "code",
   "execution_count": 3,
   "metadata": {},
   "outputs": [],
   "source": [
    "import tensorflow as tf\n",
    "from tensorflow import keras\n",
    "from tensorflow.keras.models import Sequential\n",
    "from tensorflow.keras.preprocessing.image import ImageDataGenerator\n",
    "\n",
    "from sklearn.metrics import classification_report\n",
    "from sklearn.metrics import confusion_matrix\n",
    "\n",
    "from tensorflow.keras.callbacks import EarlyStopping\n",
    "from tensorflow.keras import layers\n",
    "\n",
    "import matplotlib.pyplot as plt\n",
    "import numpy\n",
    "\n"
   ]
  },
  {
   "cell_type": "code",
   "execution_count": 28,
   "metadata": {},
   "outputs": [
    {
     "name": "stdout",
     "output_type": "stream",
     "text": [
      "Found 251 images belonging to 3 classes.\n",
      "Found 66 images belonging to 3 classes.\n"
     ]
    }
   ],
   "source": [
    "DIRECTORY_TRAIN = \"Covid19-dataset/train\"\n",
    "DIRECTORY_TEST = \"Covid19-dataset/test\"\n",
    "CLASS_MODE = \"categorical\"\n",
    "COLOR_MODE = \"grayscale\"\n",
    "TARGET_SIZE = (256,256)\n",
    "BATCH_SIZE = 32\n",
    "\n",
    "training_data_generator = ImageDataGenerator(rescale=1./255, zoom_range=0.2)\n",
    "training_iterator = training_data_generator.flow_from_directory(DIRECTORY_TRAIN,class_mode=CLASS_MODE,color_mode=COLOR_MODE,target_size=TARGET_SIZE,batch_size=BATCH_SIZE)\n",
    "\n",
    "validation_data_generator = ImageDataGenerator()\n",
    "validation_iterator = validation_data_generator.flow_from_directory(DIRECTORY_TEST,class_mode=CLASS_MODE, color_mode=COLOR_MODE,batch_size=BATCH_SIZE)#, subset='validation')"
   ]
  },
  {
   "cell_type": "markdown",
   "metadata": {},
   "source": [
    "## Creating and training the model"
   ]
  },
  {
   "cell_type": "code",
   "execution_count": 55,
   "metadata": {},
   "outputs": [],
   "source": [
    "def design_model(training_data):\n",
    "    model = Sequential()\n",
    "    model.add(tf.keras.Input(shape=(256, 256, 1)))\n",
    "    model.add(layers.Conv2D(5, 5, strides=3, activation=\"relu\")) \n",
    "    model.add(layers.MaxPooling2D(pool_size=(2, 2), strides=(2,2)))\n",
    "    model.add(layers.Conv2D(4, 4, strides=1, activation=\"relu\")) \n",
    "    model.add(layers.MaxPooling2D(pool_size=(2, 2), strides=(2,2)))\n",
    "\n",
    "    # experimenting with extra layesr\n",
    "    model.add(layers.Conv2D(3, 3, strides=1, activation=\"relu\"))\n",
    "    model.add(layers.Conv2D(1, 1, strides=1, activation=\"relu\"))\n",
    "    model.add(layers.Dropout(0.1))\n",
    "\n",
    "    model.add(layers.Flatten())\n",
    "\n",
    "    # Output layer \n",
    "    model.add(layers.Dense(3,activation=\"softmax\"))\n",
    "\n",
    "    # Compiling the model\n",
    "    model.compile(optimizer=tf.keras.optimizers.Adam(learning_rate=.001), loss=tf.keras.losses.CategoricalCrossentropy(), metrics=[tf.keras.metrics.CategoricalAccuracy(),tf.keras.metrics.AUC()],)\n",
    "    model.summary()\n",
    "    return model"
   ]
  },
  {
   "cell_type": "code",
   "execution_count": 56,
   "metadata": {},
   "outputs": [
    {
     "name": "stdout",
     "output_type": "stream",
     "text": [
      "WARNING:tensorflow:Please add `keras.layers.InputLayer` instead of `keras.Input` to Sequential model. `keras.Input` is intended to be used by Functional model.\n",
      "Model: \"sequential_18\"\n",
      "_________________________________________________________________\n",
      "Layer (type)                 Output Shape              Param #   \n",
      "=================================================================\n",
      "conv2d_39 (Conv2D)           (None, 84, 84, 5)         130       \n",
      "_________________________________________________________________\n",
      "max_pooling2d_29 (MaxPooling (None, 42, 42, 5)         0         \n",
      "_________________________________________________________________\n",
      "conv2d_40 (Conv2D)           (None, 39, 39, 4)         324       \n",
      "_________________________________________________________________\n",
      "max_pooling2d_30 (MaxPooling (None, 19, 19, 4)         0         \n",
      "_________________________________________________________________\n",
      "conv2d_41 (Conv2D)           (None, 17, 17, 3)         111       \n",
      "_________________________________________________________________\n",
      "conv2d_42 (Conv2D)           (None, 17, 17, 1)         4         \n",
      "_________________________________________________________________\n",
      "dropout_15 (Dropout)         (None, 17, 17, 1)         0         \n",
      "_________________________________________________________________\n",
      "flatten_14 (Flatten)         (None, 289)               0         \n",
      "_________________________________________________________________\n",
      "dense_21 (Dense)             (None, 3)                 870       \n",
      "=================================================================\n",
      "Total params: 1,439\n",
      "Trainable params: 1,439\n",
      "Non-trainable params: 0\n",
      "_________________________________________________________________\n",
      "Epoch 1/10\n",
      "7/7 [==============================] - 5s 524ms/step - loss: 1.0893 - categorical_accuracy: 0.4303 - auc_10: 0.5652 - val_loss: 28.9520 - val_categorical_accuracy: 0.3939 - val_auc_10: 0.5438\n",
      "Epoch 2/10\n",
      "7/7 [==============================] - 3s 356ms/step - loss: 1.0592 - categorical_accuracy: 0.4462 - auc_10: 0.6231 - val_loss: 55.9959 - val_categorical_accuracy: 0.3939 - val_auc_10: 0.5455\n",
      "Epoch 3/10\n",
      "7/7 [==============================] - 3s 411ms/step - loss: 1.0291 - categorical_accuracy: 0.4741 - auc_10: 0.6673 - val_loss: 29.3896 - val_categorical_accuracy: 0.5000 - val_auc_10: 0.6420\n",
      "Epoch 4/10\n",
      "7/7 [==============================] - 3s 329ms/step - loss: 0.9551 - categorical_accuracy: 0.5657 - auc_10: 0.7796 - val_loss: 24.7099 - val_categorical_accuracy: 0.6061 - val_auc_10: 0.7062\n",
      "Epoch 5/10\n",
      "7/7 [==============================] - 3s 371ms/step - loss: 0.8922 - categorical_accuracy: 0.6175 - auc_10: 0.7999 - val_loss: 27.4355 - val_categorical_accuracy: 0.6364 - val_auc_10: 0.7445\n",
      "Epoch 6/10\n",
      "7/7 [==============================] - 3s 342ms/step - loss: 0.7602 - categorical_accuracy: 0.6892 - auc_10: 0.8569 - val_loss: 45.5669 - val_categorical_accuracy: 0.6515 - val_auc_10: 0.7386\n",
      "Epoch 7/10\n",
      "7/7 [==============================] - 3s 323ms/step - loss: 0.6929 - categorical_accuracy: 0.7092 - auc_10: 0.8686 - val_loss: 56.5983 - val_categorical_accuracy: 0.7727 - val_auc_10: 0.8295\n",
      "Epoch 8/10\n",
      "7/7 [==============================] - 3s 349ms/step - loss: 0.6207 - categorical_accuracy: 0.7410 - auc_10: 0.8942 - val_loss: 48.2519 - val_categorical_accuracy: 0.7273 - val_auc_10: 0.8028\n",
      "Epoch 9/10\n",
      "7/7 [==============================] - 3s 328ms/step - loss: 0.5661 - categorical_accuracy: 0.7689 - auc_10: 0.9131 - val_loss: 56.5652 - val_categorical_accuracy: 0.6667 - val_auc_10: 0.7677\n",
      "Epoch 10/10\n",
      "7/7 [==============================] - 3s 328ms/step - loss: 0.5261 - categorical_accuracy: 0.7729 - auc_10: 0.9233 - val_loss: 52.9005 - val_categorical_accuracy: 0.7273 - val_auc_10: 0.7955\n"
     ]
    }
   ],
   "source": [
    "model = design_model(training_iterator)\n",
    "\n",
    "# Earlystopper\n",
    "es = EarlyStopping(monitor='categorical_accuracy', mode='min', verbose=1, patience=20)\n",
    "\n",
    "# Training the model \n",
    "history = model.fit(\n",
    "        training_iterator,\n",
    "        steps_per_epoch=training_iterator.samples/BATCH_SIZE, epochs=10,\n",
    "        validation_data=validation_iterator,\n",
    "        validation_steps=validation_iterator.samples/BATCH_SIZE,\n",
    "        callbacks=[es]\n",
    ")"
   ]
  },
  {
   "cell_type": "markdown",
   "metadata": {},
   "source": [
    "## Results"
   ]
  },
  {
   "cell_type": "code",
   "execution_count": 57,
   "metadata": {},
   "outputs": [
    {
     "data": {
      "image/png": "[encoded data removed]",
      "text/plain": [
       "<Figure size 432x288 with 2 Axes>"
      ]
     },
     "metadata": {
      "needs_background": "light"
     },
     "output_type": "display_data"
    }
   ],
   "source": [
    "# plotting categorical and validation accuracy over epochs\n",
    "fig = plt.figure()\n",
    "ax1 = fig.add_subplot(2, 1, 1)\n",
    "ax1.plot(history.history['categorical_accuracy'])\n",
    "ax1.plot(history.history['val_categorical_accuracy'])\n",
    "ax1.set_title('Model accuracy')\n",
    "ax1.set_xlabel('Epoch')\n",
    "ax1.set_ylabel('Accuracy')\n",
    "ax1.legend(['Train', 'Validation'], loc='upper left')\n",
    "\n",
    "# plotting auc and validation auc over epochs\n",
    "ax2 = fig.add_subplot(2, 1, 2)\n",
    "ax2.plot(history.history['auc_10'])\n",
    "ax2.plot(history.history['val_auc_10'])\n",
    "ax2.set_title('Model auc')\n",
    "ax2.set_xlabel('Epoch')\n",
    "ax2.set_ylabel('Auc')\n",
    "ax2.legend(['Train', 'Validation'], loc='upper left')\n",
    "\n",
    "plt.show()"
   ]
  },
  {
   "cell_type": "markdown",
   "metadata": {},
   "source": []
  }
 ],
 "metadata": {
  "interpreter": {
   "hash": "aee8b7b246df8f9039afb4144a1f6fd8d2ca17a180786b69acc140d282b71a49"
  },
  "kernelspec": {
   "display_name": "Python 3.9.5 64-bit",
   "name": "python3"
  },
  "language_info": {
   "codemirror_mode": {
    "name": "ipython",
    "version": 3
   },
   "file_extension": ".py",
   "mimetype": "text/x-python",
   "name": "python",
   "nbconvert_exporter": "python",
   "pygments_lexer": "ipython3",
   "version": "3.9.5"
  },
  "orig_nbformat": 4
 },
 "nbformat": 4,
 "nbformat_minor": 2
}