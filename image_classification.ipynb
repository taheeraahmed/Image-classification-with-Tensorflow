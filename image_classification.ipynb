{
 "cells": [
  {
   "cell_type": "markdown",
   "metadata": {},
   "source": [
    "# Covid-19 and Pneumonia classification\n",
    "\n",
    "In this project the goal is to develop a model which supports doctors with diagnosing illlnesses which affects the patients lungs. The dataset consists of X-ray lung scans where the patients either had pneumonia, Covid-19 or no illlness.\n",
    "\n",
    "This classification should, based by the model, classify a diagnosis based on the X-ray scan. "
   ]
  },
  {
   "cell_type": "markdown",
   "metadata": {},
   "source": [
    "## Set-up and preproccesing of data\n",
    "\n",
    "There will be used an ImageDataGenerator in order to create iterators for the test and train data. This is a classification task and we will use sparse categorical loss."
   ]
  },
  {
   "cell_type": "code",
   "execution_count": 2,
   "metadata": {},
   "outputs": [],
   "source": [
    "import tensorflow as tf\n",
    "from tensorflow import keras\n",
    "from tensorflow.keras.models import Sequential\n",
    "from tensorflow.keras.preprocessing.image import ImageDataGenerator\n",
    "\n",
    "from sklearn.metrics import classification_report\n",
    "from sklearn.metrics import confusion_matrix\n",
    "\n",
    "from tensorflow.keras.callbacks import EarlyStopping\n",
    "from tensorflow.keras import layers\n",
    "\n",
    "import matplotlib.pyplot as plt\n",
    "import numpy\n",
    "\n"
   ]
  },
  {
   "cell_type": "code",
   "execution_count": 3,
   "metadata": {},
   "outputs": [
    {
     "name": "stdout",
     "output_type": "stream",
     "text": [
      "Found 251 images belonging to 3 classes.\n",
      "Found 66 images belonging to 3 classes.\n"
     ]
    }
   ],
   "source": [
    "DIRECTORY_TRAIN = \"Covid19-dataset/train\"\n",
    "DIRECTORY_TEST = \"Covid19-dataset/test\"\n",
    "CLASS_MODE = \"categorical\"\n",
    "COLOR_MODE = \"grayscale\"\n",
    "TARGET_SIZE = (256,256)\n",
    "BATCH_SIZE = 32\n",
    "\n",
    "training_data_generator = ImageDataGenerator(rescale=1./255, zoom_range=0.2)\n",
    "training_iterator = training_data_generator.flow_from_directory(DIRECTORY_TRAIN,class_mode=CLASS_MODE,color_mode=COLOR_MODE,target_size=TARGET_SIZE,batch_size=BATCH_SIZE)\n",
    "\n",
    "validation_data_generator = ImageDataGenerator()\n",
    "validation_iterator = validation_data_generator.flow_from_directory(DIRECTORY_TEST,class_mode=CLASS_MODE, color_mode=COLOR_MODE,batch_size=BATCH_SIZE)#, subset='validation')"
   ]
  },
  {
   "cell_type": "markdown",
   "metadata": {},
   "source": [
    "## Creating and training the model"
   ]
  },
  {
   "cell_type": "code",
   "execution_count": 9,
   "metadata": {},
   "outputs": [],
   "source": [
    "def design_model(training_data):\n",
    "    model = Sequential()\n",
    "    model.add(tf.keras.Input(shape=(256, 256, 1)))\n",
    "    model.add(layers.Conv2D(5, 5, strides=3, activation=\"relu\")) \n",
    "    model.add(layers.MaxPooling2D(pool_size=(3, 3), strides=(2,2)))\n",
    "    model.add(layers.Conv2D(4, 4, strides=1, activation=\"relu\")) \n",
    "    model.add(layers.MaxPooling2D(pool_size=(2, 2), strides=(2,2)))\n",
    "\n",
    "    # experimenting with extra layesr\n",
    "    model.add(layers.Conv2D(4, 4, strides=1, activation=\"relu\"))\n",
    "    #model.add(layers.Conv2D(1, 1, strides=1, activation=\"relu\"))\n",
    "    model.add(layers.Dropout(0.1))\n",
    "\n",
    "    model.add(layers.Flatten())\n",
    "\n",
    "    # Output layer \n",
    "    model.add(layers.Dense(3,activation=\"softmax\"))\n",
    "\n",
    "    # Compiling the model\n",
    "    model.compile(optimizer=tf.keras.optimizers.Adam(learning_rate=.001), loss=tf.keras.losses.CategoricalCrossentropy(), metrics=[tf.keras.metrics.CategoricalAccuracy(),tf.keras.metrics.AUC()],)\n",
    "    model.summary()\n",
    "    return model"
   ]
  },
  {
   "cell_type": "code",
   "execution_count": 10,
   "metadata": {},
   "outputs": [
    {
     "name": "stdout",
     "output_type": "stream",
     "text": [
      "WARNING:tensorflow:Please add `keras.layers.InputLayer` instead of `keras.Input` to Sequential model. `keras.Input` is intended to be used by Functional model.\n",
      "Model: \"sequential_1\"\n",
      "_________________________________________________________________\n",
      "Layer (type)                 Output Shape              Param #   \n",
      "=================================================================\n",
      "conv2d_4 (Conv2D)            (None, 84, 84, 5)         130       \n",
      "_________________________________________________________________\n",
      "max_pooling2d_2 (MaxPooling2 (None, 41, 41, 5)         0         \n",
      "_________________________________________________________________\n",
      "conv2d_5 (Conv2D)            (None, 38, 38, 4)         324       \n",
      "_________________________________________________________________\n",
      "max_pooling2d_3 (MaxPooling2 (None, 19, 19, 4)         0         \n",
      "_________________________________________________________________\n",
      "conv2d_6 (Conv2D)            (None, 16, 16, 4)         260       \n",
      "_________________________________________________________________\n",
      "dropout_1 (Dropout)          (None, 16, 16, 4)         0         \n",
      "_________________________________________________________________\n",
      "flatten_1 (Flatten)          (None, 1024)              0         \n",
      "_________________________________________________________________\n",
      "dense_1 (Dense)              (None, 3)                 3075      \n",
      "=================================================================\n",
      "Total params: 3,789\n",
      "Trainable params: 3,789\n",
      "Non-trainable params: 0\n",
      "_________________________________________________________________\n",
      "Epoch 1/10\n",
      "7/7 [==============================] - 7s 634ms/step - loss: 1.0816 - categorical_accuracy: 0.3944 - auc_1: 0.5764 - val_loss: 65.0656 - val_categorical_accuracy: 0.3939 - val_auc_1: 0.5455\n",
      "Epoch 2/10\n",
      "7/7 [==============================] - 4s 561ms/step - loss: 1.0229 - categorical_accuracy: 0.4661 - auc_1: 0.6891 - val_loss: 10.3928 - val_categorical_accuracy: 0.6818 - val_auc_1: 0.7984\n",
      "Epoch 3/10\n",
      "7/7 [==============================] - 3s 421ms/step - loss: 0.9028 - categorical_accuracy: 0.6295 - auc_1: 0.7943 - val_loss: 12.7595 - val_categorical_accuracy: 0.8182 - val_auc_1: 0.8623\n",
      "Epoch 4/10\n",
      "7/7 [==============================] - 4s 581ms/step - loss: 0.7386 - categorical_accuracy: 0.7649 - auc_1: 0.8925 - val_loss: 26.7902 - val_categorical_accuracy: 0.7879 - val_auc_1: 0.8409\n",
      "Epoch 5/10\n",
      "7/7 [==============================] - 4s 516ms/step - loss: 0.6103 - categorical_accuracy: 0.7450 - auc_1: 0.9085 - val_loss: 43.0301 - val_categorical_accuracy: 0.8182 - val_auc_1: 0.8636\n",
      "Epoch 6/10\n",
      "7/7 [==============================] - 4s 505ms/step - loss: 0.4713 - categorical_accuracy: 0.8088 - auc_1: 0.9405 - val_loss: 95.5809 - val_categorical_accuracy: 0.7121 - val_auc_1: 0.7841\n",
      "Epoch 7/10\n",
      "7/7 [==============================] - 3s 417ms/step - loss: 0.4469 - categorical_accuracy: 0.8088 - auc_1: 0.9448 - val_loss: 54.5619 - val_categorical_accuracy: 0.8182 - val_auc_1: 0.8636\n",
      "Epoch 8/10\n",
      "7/7 [==============================] - 3s 432ms/step - loss: 0.4122 - categorical_accuracy: 0.8486 - auc_1: 0.9540 - val_loss: 44.1030 - val_categorical_accuracy: 0.8030 - val_auc_1: 0.8523\n",
      "Epoch 9/10\n",
      "7/7 [==============================] - 3s 369ms/step - loss: 0.3395 - categorical_accuracy: 0.8725 - auc_1: 0.9695 - val_loss: 55.6530 - val_categorical_accuracy: 0.8485 - val_auc_1: 0.8864\n",
      "Epoch 10/10\n",
      "7/7 [==============================] - 3s 370ms/step - loss: 0.3725 - categorical_accuracy: 0.8406 - auc_1: 0.9621 - val_loss: 48.8630 - val_categorical_accuracy: 0.8333 - val_auc_1: 0.8737\n"
     ]
    }
   ],
   "source": [
    "model = design_model(training_iterator)\n",
    "\n",
    "# Earlystopper\n",
    "es = EarlyStopping(monitor='categorical_accuracy', mode='min', verbose=1, patience=20)\n",
    "\n",
    "# Training the model \n",
    "history = model.fit(\n",
    "        training_iterator,\n",
    "        steps_per_epoch=training_iterator.samples/BATCH_SIZE, epochs=10,\n",
    "        validation_data=validation_iterator,\n",
    "        validation_steps=validation_iterator.samples/BATCH_SIZE,\n",
    "        callbacks=[es]\n",
    ")"
   ]
  },
  {
   "cell_type": "markdown",
   "metadata": {},
   "source": [
    "## Results"
   ]
  },
  {
   "cell_type": "code",
   "execution_count": 11,
   "metadata": {},
   "outputs": [
    {
     "data": {
      "image/png": "[encoded data removed]",
      "text/plain": [
       "<Figure size 432x288 with 2 Axes>"
      ]
     },
     "metadata": {
      "needs_background": "light"
     },
     "output_type": "display_data"
    }
   ],
   "source": [
    "# plotting categorical and validation accuracy over epochs\n",
    "fig = plt.figure()\n",
    "ax1 = fig.add_subplot(2, 1, 1)\n",
    "ax1.plot(history.history['categorical_accuracy'])\n",
    "ax1.plot(history.history['val_categorical_accuracy'])\n",
    "ax1.set_title('Model accuracy')\n",
    "ax1.set_xlabel('Epoch')\n",
    "ax1.set_ylabel('Accuracy')\n",
    "ax1.legend(['Train', 'Validation'], loc='upper left')\n",
    "\n",
    "# plotting auc and validation auc over epochs\n",
    "ax2 = fig.add_subplot(2, 1, 2)\n",
    "ax2.plot(history.history['auc_1'])\n",
    "ax2.plot(history.history['val_auc_1'])\n",
    "ax2.set_title('Model auc')\n",
    "ax2.set_xlabel('Epoch')\n",
    "ax2.set_ylabel('Auc')\n",
    "ax2.legend(['Train', 'Validation'], loc='upper left')\n",
    "\n",
    "plt.show()"
   ]
  },
  {
   "cell_type": "markdown",
   "metadata": {},
   "source": [
    "AUC stands for \"Area Under Curve\" and is the measure of the ability of a classifier to distinguish between classes. This means that the model has over 80% chance of classifying an X-ray correctly. \n",
    "\n",
    "The accuracy says how likely it is that the model will assign the highest probability to the correct class more than 80% of the time"
   ]
  },
  {
   "cell_type": "code",
   "execution_count": 19,
   "metadata": {},
   "outputs": [
    {
     "name": "stdout",
     "output_type": "stream",
     "text": [
      "The AUC of the model is 0.8737373352050781\n",
      "The categorical accuracy of the model is 0.8333333134651184\n"
     ]
    }
   ],
   "source": [
    "print(f\"The AUC of the model is {history.history['val_auc_1'][-1]}\")\n",
    "print(f\"The categorical accuracy of the model is {history.history['val_categorical_accuracy'][-1]}\")"
   ]
  }
 ],
 "metadata": {
  "interpreter": {
   "hash": "aee8b7b246df8f9039afb4144a1f6fd8d2ca17a180786b69acc140d282b71a49"
  },
  "kernelspec": {
   "display_name": "Python 3.9.5 64-bit",
   "name": "python3"
  },
  "language_info": {
   "codemirror_mode": {
    "name": "ipython",
    "version": 3
   },
   "file_extension": ".py",
   "mimetype": "text/x-python",
   "name": "python",
   "nbconvert_exporter": "python",
   "pygments_lexer": "ipython3",
   "version": "3.9.5"
  },
  "orig_nbformat": 4
 },
 "nbformat": 4,
 "nbformat_minor": 2
}